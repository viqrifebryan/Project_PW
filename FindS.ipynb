{
  "nbformat": 4,
  "nbformat_minor": 0,
  "metadata": {
    "colab": {
      "name": "Untitled0.ipynb",
      "provenance": [],
      "include_colab_link": true
    },
    "kernelspec": {
      "name": "python3",
      "display_name": "Python 3"
    }
  },
  "cells": [
    {
      "cell_type": "markdown",
      "metadata": {
        "id": "view-in-github",
        "colab_type": "text"
      },
      "source": [
        "<a href=\"https://colab.research.google.com/github/viqrifebryan/Project_PW/blob/master/FindS.ipynb\" target=\"_parent\"><img src=\"https://colab.research.google.com/assets/colab-badge.svg\" alt=\"Open In Colab\"/></a>"
      ]
    },
    {
      "cell_type": "code",
      "metadata": {
        "id": "COLI90cIj4Yu",
        "colab_type": "code",
        "colab": {
          "base_uri": "https://localhost:8080/",
          "height": 340
        },
        "outputId": "5dc5775f-4dd8-4a05-ede8-e99cad97a249"
      },
      "source": [
        "#Nama  : Muhammad Viqri Febryan\n",
        "#NPM   : 140810160027\n",
        "\n",
        "import csv\n",
        "\n",
        "pokemon_dataset = []\n",
        "\n",
        "# Import the data from the CSV file\n",
        "with open('Pokemon.csv') as csv_file:\n",
        "    csv_reader = csv.reader(csv_file, delimiter=',')\n",
        "    for row in csv_reader:\n",
        "        pokemon_dataset.append(row)\n",
        "\n",
        "#pokemon_dataset = [pokemon[1:] for pokemon in pokemon_dataset]\n",
        "\n",
        "# The attributes that describe the pokemon\n",
        "dataset_attributes = ['Type1', 'Type2', 'Total', 'HP', 'Attack', 'Defense', 'Sp.Atk', 'Sp.Def', 'Speed',\n",
        "                      'Generation', 'Legendary']\n",
        "attributes = len(pokemon_dataset[0])\n",
        "\n",
        "no_of_pokemon_types = 17\n",
        "\n",
        "# The pokemon types present in the CSV file\n",
        "pokemon_types = ['Grass', 'Poison', 'Fire', 'Flying', 'Dragon', 'Water', 'Bug', 'Normal', 'Fairy', 'Ground',\n",
        "                'Fighting', 'Psyhic', 'Rock', 'Electric', 'Ice', 'Ghost', 'Dark']\n",
        "\n",
        "# Creating a list that can hold the hypothesis for each of the seventeen pokemon types\n",
        "target_concept = ['x'] * (attributes-1)\n",
        "target_concept = [target_concept] * no_of_pokemon_types\n",
        "\n",
        "# Function that compares an attr. from a single positive training data and an attr. from the current hypothesis\n",
        "# Returns the instance attr. if 0, the same attr. if they are the same and a ? if they are different\n",
        "def finds(instance_attribute, hypotheses):\n",
        "    if hypotheses == 'x':\n",
        "        return instance_attribute\n",
        "    elif hypotheses == '?':\n",
        "        return '?'\n",
        "    else:\n",
        "        if hypotheses == instance_attribute:\n",
        "            return hypotheses\n",
        "        else:\n",
        "            return '?'\n",
        "\n",
        "# Runs all the training data through the map function\n",
        "for pokemon in pokemon_dataset:\n",
        "    target = bool(pokemon[attributes-1])\n",
        "    target_concept[target-1] = list(map(finds, pokemon, target_concept[target-1]))\n",
        "\n",
        "# Displays the final hypothesis for each of the pokemon types\n",
        "print('The target concept for the Pokemon Type data set is :')\n",
        "print(str(dataset_attributes))\n",
        "for pokemon in range(0, no_of_pokemon_types):\n",
        "    print('For '+pokemon_types[pokemon]+' : '+str(target_concept[pokemon]))"
      ],
      "execution_count": 21,
      "outputs": [
        {
          "output_type": "stream",
          "text": [
            "The target concept for the Pokemon Type data set is :\n",
            "['Type1', 'Type2', 'Total', 'HP', 'Attack', 'Defense', 'Sp.Atk', 'Sp.Def', 'Speed', 'Generation', 'Legendary']\n",
            "For Grass : ['?', '?', '?', '?', '?', '?', '?', '?', '?', '?', '?', '?']\n",
            "For Poison : ['x', 'x', 'x', 'x', 'x', 'x', 'x', 'x', 'x', 'x', 'x', 'x']\n",
            "For Fire : ['x', 'x', 'x', 'x', 'x', 'x', 'x', 'x', 'x', 'x', 'x', 'x']\n",
            "For Flying : ['x', 'x', 'x', 'x', 'x', 'x', 'x', 'x', 'x', 'x', 'x', 'x']\n",
            "For Dragon : ['x', 'x', 'x', 'x', 'x', 'x', 'x', 'x', 'x', 'x', 'x', 'x']\n",
            "For Water : ['x', 'x', 'x', 'x', 'x', 'x', 'x', 'x', 'x', 'x', 'x', 'x']\n",
            "For Bug : ['x', 'x', 'x', 'x', 'x', 'x', 'x', 'x', 'x', 'x', 'x', 'x']\n",
            "For Normal : ['x', 'x', 'x', 'x', 'x', 'x', 'x', 'x', 'x', 'x', 'x', 'x']\n",
            "For Fairy : ['x', 'x', 'x', 'x', 'x', 'x', 'x', 'x', 'x', 'x', 'x', 'x']\n",
            "For Ground : ['x', 'x', 'x', 'x', 'x', 'x', 'x', 'x', 'x', 'x', 'x', 'x']\n",
            "For Fighting : ['x', 'x', 'x', 'x', 'x', 'x', 'x', 'x', 'x', 'x', 'x', 'x']\n",
            "For Psyhic : ['x', 'x', 'x', 'x', 'x', 'x', 'x', 'x', 'x', 'x', 'x', 'x']\n",
            "For Rock : ['x', 'x', 'x', 'x', 'x', 'x', 'x', 'x', 'x', 'x', 'x', 'x']\n",
            "For Electric : ['x', 'x', 'x', 'x', 'x', 'x', 'x', 'x', 'x', 'x', 'x', 'x']\n",
            "For Ice : ['x', 'x', 'x', 'x', 'x', 'x', 'x', 'x', 'x', 'x', 'x', 'x']\n",
            "For Ghost : ['x', 'x', 'x', 'x', 'x', 'x', 'x', 'x', 'x', 'x', 'x', 'x']\n",
            "For Dark : ['x', 'x', 'x', 'x', 'x', 'x', 'x', 'x', 'x', 'x', 'x', 'x']\n"
          ],
          "name": "stdout"
        }
      ]
    }
  ]
}